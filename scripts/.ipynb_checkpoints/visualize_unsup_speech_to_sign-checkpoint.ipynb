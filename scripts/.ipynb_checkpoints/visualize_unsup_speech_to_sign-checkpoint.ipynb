{
 "cells": [
  {
   "cell_type": "code",
   "execution_count": 2,
   "metadata": {
    "colab": {
     "base_uri": "https://localhost:8080/"
    },
    "id": "kffNWNKc2Ohj",
    "outputId": "1d436524-f59b-4907-e5a7-4b0d68c637c6"
   },
   "outputs": [
    {
     "name": "stdout",
     "output_type": "stream",
     "text": [
      "Defaulting to user installation because normal site-packages is not writeable\n",
      "Requirement already satisfied: librosa in /home/lwang114/.local/lib/python3.9/site-packages (0.9.2)\n",
      "Requirement already satisfied: numpy>=1.17.0 in /opt/miniconda3/envs/opence-v1.6.1/lib/python3.9/site-packages (from librosa) (1.22.3)\n",
      "Requirement already satisfied: audioread>=2.1.9 in /home/lwang114/.local/lib/python3.9/site-packages (from librosa) (3.0.0)\n",
      "Requirement already satisfied: decorator>=4.0.10 in /opt/miniconda3/envs/opence-v1.6.1/lib/python3.9/site-packages (from librosa) (5.1.1)\n",
      "Requirement already satisfied: joblib>=0.14 in /opt/miniconda3/envs/opence-v1.6.1/lib/python3.9/site-packages (from librosa) (1.1.0)\n",
      "Requirement already satisfied: packaging>=20.0 in /opt/miniconda3/envs/opence-v1.6.1/lib/python3.9/site-packages (from librosa) (21.3)\n",
      "Requirement already satisfied: pooch>=1.0 in /home/lwang114/.local/lib/python3.9/site-packages (from librosa) (1.6.0)\n",
      "Requirement already satisfied: resampy>=0.2.2 in /home/lwang114/.local/lib/python3.9/site-packages (from librosa) (0.4.2)\n",
      "Requirement already satisfied: scikit-learn>=0.19.1 in /opt/miniconda3/envs/opence-v1.6.1/lib/python3.9/site-packages (from librosa) (1.0.2)\n",
      "Requirement already satisfied: numba>=0.45.1 in /opt/miniconda3/envs/opence-v1.6.1/lib/python3.9/site-packages (from librosa) (0.53.1)\n",
      "Requirement already satisfied: soundfile>=0.10.2 in /home/lwang114/.local/lib/python3.9/site-packages (from librosa) (0.11.0)\n",
      "Requirement already satisfied: scipy>=1.2.0 in /opt/miniconda3/envs/opence-v1.6.1/lib/python3.9/site-packages (from librosa) (1.7.3)\n",
      "Requirement already satisfied: setuptools in /opt/miniconda3/envs/opence-v1.6.1/lib/python3.9/site-packages (from numba>=0.45.1->librosa) (60.9.3)\n",
      "Requirement already satisfied: llvmlite<0.37,>=0.36.0rc1 in /opt/miniconda3/envs/opence-v1.6.1/lib/python3.9/site-packages (from numba>=0.45.1->librosa) (0.36.0)\n",
      "Requirement already satisfied: pyparsing!=3.0.5,>=2.0.2 in /opt/miniconda3/envs/opence-v1.6.1/lib/python3.9/site-packages (from packaging>=20.0->librosa) (3.0.7)\n",
      "Requirement already satisfied: requests>=2.19.0 in /opt/miniconda3/envs/opence-v1.6.1/lib/python3.9/site-packages (from pooch>=1.0->librosa) (2.27.1)\n",
      "Requirement already satisfied: appdirs>=1.3.0 in /opt/miniconda3/envs/opence-v1.6.1/lib/python3.9/site-packages (from pooch>=1.0->librosa) (1.4.4)\n",
      "Requirement already satisfied: threadpoolctl>=2.0.0 in /opt/miniconda3/envs/opence-v1.6.1/lib/python3.9/site-packages (from scikit-learn>=0.19.1->librosa) (3.1.0)\n",
      "Requirement already satisfied: cffi>=1.0 in /opt/miniconda3/envs/opence-v1.6.1/lib/python3.9/site-packages (from soundfile>=0.10.2->librosa) (1.14.6)\n",
      "Requirement already satisfied: pycparser in /opt/miniconda3/envs/opence-v1.6.1/lib/python3.9/site-packages (from cffi>=1.0->soundfile>=0.10.2->librosa) (2.21)\n",
      "Requirement already satisfied: idna<4,>=2.5 in /opt/miniconda3/envs/opence-v1.6.1/lib/python3.9/site-packages (from requests>=2.19.0->pooch>=1.0->librosa) (3.3)\n",
      "Requirement already satisfied: urllib3<1.27,>=1.21.1 in /opt/miniconda3/envs/opence-v1.6.1/lib/python3.9/site-packages (from requests>=2.19.0->pooch>=1.0->librosa) (1.26.9)\n",
      "Requirement already satisfied: charset-normalizer~=2.0.0 in /opt/miniconda3/envs/opence-v1.6.1/lib/python3.9/site-packages (from requests>=2.19.0->pooch>=1.0->librosa) (2.0.12)\n",
      "Requirement already satisfied: certifi>=2017.4.17 in /opt/miniconda3/envs/opence-v1.6.1/lib/python3.9/site-packages (from requests>=2.19.0->pooch>=1.0->librosa) (2022.6.15)\n"
     ]
    }
   ],
   "source": [
    "!pip install librosa\n",
    "from librosa import display\n",
    "from collections import defaultdict\n",
    "from copy import deepcopy\n",
    "import cv2\n",
    "import json\n",
    "import matplotlib\n",
    "import matplotlib.pyplot as plt\n",
    "import numpy as np\n",
    "import seaborn as sns\n",
    "import pandas as pd\n",
    "from pathlib import Path\n",
    "import random\n",
    "random.seed(1)\n",
    "font = {'size': 15}\n",
    "matplotlib.rc('font', **font)"
   ]
  },
  {
   "cell_type": "markdown",
   "metadata": {
    "id": "Da1obm8X2V7d",
    "jp-MarkdownHeadingCollapsed": true,
    "tags": []
   },
   "source": [
    "# 1. Recall@1,5,10 vs cluster sizes and skip sizes "
   ]
  },
  {
   "cell_type": "code",
   "execution_count": 1,
   "metadata": {
    "id": "oZmb2MOj67L3"
   },
   "outputs": [
    {
     "ename": "NameError",
     "evalue": "name 'pd' is not defined",
     "output_type": "error",
     "traceback": [
      "\u001b[0;31m---------------------------------------------------------------------------\u001b[0m",
      "\u001b[0;31mNameError\u001b[0m                                 Traceback (most recent call last)",
      "\u001b[0;32m/tmp/ipykernel_3690538/2208037209.py\u001b[0m in \u001b[0;36m<cell line: 2>\u001b[0;34m()\u001b[0m\n\u001b[1;32m      1\u001b[0m \u001b[0min_file\u001b[0m \u001b[0;34m=\u001b[0m \u001b[0;34m\"ASL_LibriSpeech_retrieval.csv\"\u001b[0m\u001b[0;34m\u001b[0m\u001b[0;34m\u001b[0m\u001b[0m\n\u001b[0;32m----> 2\u001b[0;31m \u001b[0mdf\u001b[0m \u001b[0;34m=\u001b[0m \u001b[0mpd\u001b[0m\u001b[0;34m.\u001b[0m\u001b[0mread_csv\u001b[0m\u001b[0;34m(\u001b[0m\u001b[0min_file\u001b[0m\u001b[0;34m)\u001b[0m\u001b[0;34m\u001b[0m\u001b[0;34m\u001b[0m\u001b[0m\n\u001b[0m",
      "\u001b[0;31mNameError\u001b[0m: name 'pd' is not defined"
     ]
    }
   ],
   "source": [
    "in_file = \"ASL_LibriSpeech_retrieval.csv\" \n",
    "df = pd.read_csv(in_file)"
   ]
  },
  {
   "cell_type": "code",
   "execution_count": 2,
   "metadata": {
    "colab": {
     "base_uri": "https://localhost:8080/",
     "height": 345
    },
    "id": "dC_wqpr2_MCc",
    "outputId": "b2834b5f-c1e7-4458-b82a-64cd5180980c"
   },
   "outputs": [
    {
     "ename": "NameError",
     "evalue": "name 'df' is not defined",
     "output_type": "error",
     "traceback": [
      "\u001b[0;31m---------------------------------------------------------------------------\u001b[0m",
      "\u001b[0;31mNameError\u001b[0m                                 Traceback (most recent call last)",
      "\u001b[0;32m/tmp/ipykernel_3690538/1168050939.py\u001b[0m in \u001b[0;36m<cell line: 1>\u001b[0;34m()\u001b[0m\n\u001b[0;32m----> 1\u001b[0;31m \u001b[0mdf1\u001b[0m \u001b[0;34m=\u001b[0m \u001b[0mdf\u001b[0m\u001b[0;34m[\u001b[0m\u001b[0mdf\u001b[0m\u001b[0;34m[\u001b[0m\u001b[0;34m\"Video feature\"\u001b[0m\u001b[0;34m]\u001b[0m \u001b[0;34m!=\u001b[0m \u001b[0;34m\"VGG+CPC\"\u001b[0m\u001b[0;34m]\u001b[0m\u001b[0;34m\u001b[0m\u001b[0;34m\u001b[0m\u001b[0m\n\u001b[0m\u001b[1;32m      2\u001b[0m \u001b[0mdf1\u001b[0m \u001b[0;34m=\u001b[0m \u001b[0mdf1\u001b[0m\u001b[0;34m[\u001b[0m\u001b[0mdf1\u001b[0m\u001b[0;34m[\u001b[0m\u001b[0;34m\"Name\"\u001b[0m\u001b[0;34m]\u001b[0m \u001b[0;34m==\u001b[0m \u001b[0;34m\"L1\"\u001b[0m\u001b[0;34m]\u001b[0m\u001b[0;34m\u001b[0m\u001b[0;34m\u001b[0m\u001b[0m\n\u001b[1;32m      3\u001b[0m \u001b[0mdf1\u001b[0m \u001b[0;34m=\u001b[0m \u001b[0mdf1\u001b[0m\u001b[0;34m[\u001b[0m\u001b[0mdf1\u001b[0m\u001b[0;34m[\u001b[0m\u001b[0;34m\"Video feature\"\u001b[0m\u001b[0;34m]\u001b[0m \u001b[0;34m==\u001b[0m \u001b[0;34m\"I3D flow charades+CPC enc\"\u001b[0m\u001b[0;34m]\u001b[0m\u001b[0;34m\u001b[0m\u001b[0;34m\u001b[0m\u001b[0m\n\u001b[1;32m      4\u001b[0m \u001b[0;31m# print(df1)\u001b[0m\u001b[0;34m\u001b[0m\u001b[0;34m\u001b[0m\u001b[0m\n\u001b[1;32m      5\u001b[0m \u001b[0;34m\u001b[0m\u001b[0m\n",
      "\u001b[0;31mNameError\u001b[0m: name 'df' is not defined"
     ]
    }
   ],
   "source": [
    "df1 = df[df[\"Video feature\"] != \"VGG+CPC\"]\n",
    "df1 = df1[df1[\"Name\"] == \"L1\"]\n",
    "df1 = df1[df1[\"Video feature\"] == \"I3D flow charades+CPC enc\"]\n",
    "# print(df1)\n",
    "\n",
    "# plt.xlim([0, 8.5])\n",
    "fig, ax = plt.subplots(figsize=(5, 5))\n",
    "sns.lineplot(\n",
    "    data=df1,\n",
    "    x=r\"$K$\",\n",
    "    y=r\"A2V Recall@$N$\",\n",
    "    hue=r\"$|\\mathbb{X}|$\",\n",
    "    style=r\"$N$\",\n",
    "    markers=True, \n",
    "    dashes=True,\n",
    "    markersize=10,\n",
    ")\n",
    "ax.legend(bbox_to_anchor=(1.0, 1.0))\n",
    "plt.grid()\n"
   ]
  },
  {
   "cell_type": "markdown",
   "metadata": {
    "id": "cSR1OXo_ACn4",
    "jp-MarkdownHeadingCollapsed": true,
    "tags": []
   },
   "source": [
    "# 2. Recall@1,5,10 vs Training objectives"
   ]
  },
  {
   "cell_type": "code",
   "execution_count": null,
   "metadata": {
    "colab": {
     "base_uri": "https://localhost:8080/"
    },
    "id": "SE7JfqVaAArr",
    "outputId": "0f128bcf-f926-46f1-dbbc-ce5cca46631a"
   },
   "outputs": [
    {
     "name": "stdout",
     "output_type": "stream",
     "text": [
      "   Name              Video feature     Modalities $|\\mathbb{X}|$  $K$  \\\n",
      "15   L1  I3D flow charades+CPC enc  speech, video            400    6   \n",
      "16   L1  I3D flow charades+CPC enc  speech, video            400    6   \n",
      "17   L1  I3D flow charades+CPC enc  speech, video            400    6   \n",
      "18   L1  I3D flow charades+CPC enc  speech, video            400    4   \n",
      "19   L1  I3D flow charades+CPC enc  speech, video            400    4   \n",
      "20   L1  I3D flow charades+CPC enc  speech, video            400    4   \n",
      "21   L1  I3D flow charades+CPC enc  speech, video            400    1   \n",
      "22   L1  I3D flow charades+CPC enc  speech, video            400    1   \n",
      "23   L1  I3D flow charades+CPC enc  speech, video            400    1   \n",
      "24   L1  I3D flow charades+CPC enc  speech, video            400    0   \n",
      "25   L1  I3D flow charades+CPC enc  speech, video            400    0   \n",
      "26   L1  I3D flow charades+CPC enc  speech, video            400    0   \n",
      "63  MMD  I3D flow charades+CPC enc  speech, video            400    0   \n",
      "64  MMD  I3D flow charades+CPC enc  speech, video            400    0   \n",
      "65  MMD  I3D flow charades+CPC enc  speech, video            400    0   \n",
      "66  MMD  I3D flow charades+CPC enc  speech, video            400    1   \n",
      "67  MMD  I3D flow charades+CPC enc  speech, video            400    1   \n",
      "68  MMD  I3D flow charades+CPC enc  speech, video            400    1   \n",
      "69  MMD  I3D flow charades+CPC enc  speech, video            400    4   \n",
      "70  MMD  I3D flow charades+CPC enc  speech, video            400    4   \n",
      "71  MMD  I3D flow charades+CPC enc  speech, video            400    4   \n",
      "72  MMD  I3D flow charades+CPC enc  speech, video            400    6   \n",
      "73  MMD  I3D flow charades+CPC enc  speech, video            400    6   \n",
      "74  MMD  I3D flow charades+CPC enc  speech, video            400    6   \n",
      "75  JSD  I3D flow charades+CPC enc  speech, video            400    0   \n",
      "76  JSD  I3D flow charades+CPC enc  speech, video            400    0   \n",
      "77  JSD  I3D flow charades+CPC enc  speech, video            400    0   \n",
      "78  JSD  I3D flow charades+CPC enc  speech, video            400    1   \n",
      "79  JSD  I3D flow charades+CPC enc  speech, video            400    1   \n",
      "80  JSD  I3D flow charades+CPC enc  speech, video            400    1   \n",
      "81  JSD  I3D flow charades+CPC enc  speech, video            400    4   \n",
      "82  JSD  I3D flow charades+CPC enc  speech, video            400    4   \n",
      "83  JSD  I3D flow charades+CPC enc  speech, video            400    4   \n",
      "84  JSD  I3D flow charades+CPC enc  speech, video            400    6   \n",
      "85  JSD  I3D flow charades+CPC enc  speech, video            400    6   \n",
      "86  JSD  I3D flow charades+CPC enc  speech, video            400    6   \n",
      "\n",
      "    Vocab size  Test size  $N$  A2V Recall@$N$  V2A recall@$N$  \\\n",
      "15         100         56    1            69.6            71.4   \n",
      "16         100         56    5            96.4            96.4   \n",
      "17         100         56   10            98.2           100.0   \n",
      "18         100         56    1            67.9            69.6   \n",
      "19         100         56    5            92.9            92.9   \n",
      "20         100         56   10            98.2            98.2   \n",
      "21         100         56    1            44.6            44.6   \n",
      "22         100         56    5            75.0            69.6   \n",
      "23         100         56   10            87.5            89.3   \n",
      "24         100         56    1             8.9             8.9   \n",
      "25         100         56    5            21.4            21.4   \n",
      "26         100         56   10            33.9            30.4   \n",
      "63         100         56    1             8.9             3.6   \n",
      "64         100         56    5            19.6            17.9   \n",
      "65         100         56   10            30.4            28.6   \n",
      "66         100         56    1             1.8             0.0   \n",
      "67         100         56    5             5.4             3.6   \n",
      "68         100         56   10             7.1             7.1   \n",
      "69         100         56    1             8.9             8.9   \n",
      "70         100         56    5            26.8            28.6   \n",
      "71         100         56   10            51.8            48.2   \n",
      "72         100         56    1            71.4            76.8   \n",
      "73         100         56    5            96.4            92.9   \n",
      "74         100         56   10            96.4            98.2   \n",
      "75         100         56    1             8.9             5.4   \n",
      "76         100         56    5            21.4            17.9   \n",
      "77         100         56   10            33.9            32.1   \n",
      "78         100         56    1            12.5             5.4   \n",
      "79         100         56    5            35.7            35.7   \n",
      "80         100         56   10            60.7            55.4   \n",
      "81         100         56    1            17.9            10.7   \n",
      "82         100         56    5            35.7            30.4   \n",
      "83         100         56   10            53.6            48.2   \n",
      "84         100         56    1            14.3            10.7   \n",
      "85         100         56    5            35.7            30.4   \n",
      "86         100         56   10            53.6            46.4   \n",
      "\n",
      "                           run dir  \n",
      "15  multirun/2022-12-31/20-31-57/0  \n",
      "16                             NaN  \n",
      "17                             NaN  \n",
      "18  multirun/2023-01-07/17-30-38/0  \n",
      "19                             NaN  \n",
      "20                             NaN  \n",
      "21  multirun/2023-01-07/14-10-24/0  \n",
      "22                             NaN  \n",
      "23                             NaN  \n",
      "24  multirun/2023-01-07/10-49-39/0  \n",
      "25                             NaN  \n",
      "26                             NaN  \n",
      "63  multirun/2023-01-03/21-22-25/0  \n",
      "64                             NaN  \n",
      "65                             NaN  \n",
      "66  multirun/2023-01-04/11-15-44/0  \n",
      "67                             NaN  \n",
      "68                             NaN  \n",
      "69  multirun/2023-01-04/17-54-51/0  \n",
      "70                             NaN  \n",
      "71                             NaN  \n",
      "72  multirun/2023-01-05/00-44-49/0  \n",
      "73                             NaN  \n",
      "74                             NaN  \n",
      "75  multirun/2023-01-06/13-05-39/0  \n",
      "76                             NaN  \n",
      "77                             NaN  \n",
      "78  multirun/2023-01-06/20-26-05/0  \n",
      "79                             NaN  \n",
      "80                             NaN  \n",
      "81  multirun/2023-01-06/13-05-12/0  \n",
      "82                             NaN  \n",
      "83                             NaN  \n",
      "84  multirun/2023-01-06/20-33-18/0  \n",
      "85                             NaN  \n",
      "86                             NaN  \n"
     ]
    }
   ],
   "source": [
    "df2 = df[df[\"Video feature\"] != \"VGG+CPC\"]\n",
    "df2 = df2[df2[\"Video feature\"] == \"I3D flow charades+CPC enc\"]\n",
    "df2 = df2[df2[\"$|\\mathbb{X}|$\"] == \"400\"]"
   ]
  },
  {
   "cell_type": "code",
   "execution_count": null,
   "metadata": {
    "colab": {
     "base_uri": "https://localhost:8080/",
     "height": 345
    },
    "id": "TmdP1Dd6ApZZ",
    "outputId": "31b172bd-9c99-43c6-b792-9ffd885facfb"
   },
   "outputs": [
    {
     "data": {
      "image/png": "[encoded data removed]",
      "text/plain": [
       "<Figure size 360x360 with 1 Axes>"
      ]
     },
     "metadata": {
      "needs_background": "light"
     },
     "output_type": "display_data"
    }
   ],
   "source": [
    "fig, ax = plt.subplots(figsize=(5, 5))\n",
    "sns.lineplot(\n",
    "    data=df2,\n",
    "    x=r\"$K$\",\n",
    "    y=r\"A2V Recall@$N$\",\n",
    "    hue=\"Name\",\n",
    "    style=r\"$N$\",\n",
    "    markers=True, \n",
    "    dashes=True,\n",
    "    markersize=10,\n",
    ")\n",
    "ax.legend(bbox_to_anchor=(1.0, 1.0))\n",
    "plt.grid()"
   ]
  },
  {
   "cell_type": "markdown",
   "metadata": {
    "id": "fpTrpDH7N1dY",
    "jp-MarkdownHeadingCollapsed": true,
    "tags": []
   },
   "source": [
    "# 3. Word/sign detection accuracy vs Word/sign frequency "
   ]
  },
  {
   "cell_type": "code",
   "execution_count": 3,
   "metadata": {
    "id": "8sj4Q_EPOIOP"
   },
   "outputs": [],
   "source": [
    "def eval_word_detection(\n",
    "        wrd_file,\n",
    "        retrieval_file,\n",
    "        vocab_file,\n",
    "    ):\n",
    "    \"\"\"\n",
    "    Args:\n",
    "    wrd_file: .wrd file containing word-level transcripts\n",
    "    retrieval_file: .json file containing top-10 retrieval indices \n",
    "    \"\"\"\n",
    "    with open(wrd_file, \"r\") as f:\n",
    "        lines = f.read().strip().split(\"\\n\")\n",
    "        trans = [l.split() for l in lines]\n",
    "\n",
    "    count = defaultdict(int)\n",
    "    count_a = defaultdict(int)\n",
    "    count_v = defaultdict(int)\n",
    "    correct = defaultdict(int)\n",
    "    with open(retrieval_file, \"r\") as f:\n",
    "        ret_dict = json.load(f)\n",
    "        A2I_indices = ret_dict[\"A2I_ind\"]\n",
    "        I2A_indices = ret_dict[\"I2A_ind\"]\n",
    "        alignments = ret_dict[\"alignments\"] \n",
    "        for a2i, i2a, alis, tran in zip(\n",
    "                A2I_indices, I2A_indices, alignments, trans,\n",
    "            ):\n",
    "            for x in tran:\n",
    "                count[x] += 1\n",
    "\n",
    "            for ret_ind, ali in zip(a2i[:5], alis[:5]):\n",
    "                ret_tran = trans[ret_ind]\n",
    "                for i, j in zip(*ali):\n",
    "                    count_a[tran[i]] += 1\n",
    "                    count_v[ret_tran[j]] += 1\n",
    "                    correct[tran[i]] += (tran[i] == ret_tran[j])\n",
    "    \n",
    "    top_words = sorted(count, key=lambda x:count[x], reverse=True)\n",
    "    print(\"Top 10 words: \", top_words[:10])\n",
    "    print(\"Bottom 10 words: \", top_words[-10:])\n",
    "    results = {\n",
    "        \"Recall\": [correct[w] / max(1, count_v[w]) for w in top_words[:100]],\n",
    "        \"Precision\": [correct[w] / count_a[w] for w in top_words[:100]],\n",
    "        \"Word rank\": [top_words.index(w) for w in top_words[:100]],\n",
    "        \"Word type\": [w for w in top_words[:100]],\n",
    "    }\n",
    "    \n",
    "    results[\"F1\"] = [\n",
    "        2 * p * r / (p + r) \n",
    "        if (p + r) > 0 else 0.0\n",
    "        for p, r in zip(\n",
    "            results[\"Precision\"], results[\"Recall\"]\n",
    "        )\n",
    "    ]\n",
    "    return results\n",
    "\n",
    "def find_word_score(results, w):\n",
    "    ps, rs = [], []\n",
    "    for y, p, r, d in zip(results[\"Word type\"], results[\"Precision\"], results[\"Recall\"], results[\"Dataset\"]):\n",
    "        if y == w:\n",
    "            ps.append(p)\n",
    "            rs.append(r)\n",
    "            dsets.append(d)\n",
    "    return ps, rs, dsets"
   ]
  },
  {
   "cell_type": "code",
   "execution_count": 6,
   "metadata": {
    "id": "-fDFOukJOdSU"
   },
   "outputs": [
    {
     "name": "stdout",
     "output_type": "stream",
     "text": [
      "Top 10 words:  ['and', 'in', 'i', 'that', 'he', 'his', 'with', 'for', 'you', 'not']\n",
      "Bottom 10 words:  ['transfer', 'bored', 'dirty', 'shy', 'nuts', 'dollar', 'funny', 'jacket', 'orange', 'skirt']\n",
      "Top 10 words:  ['you', 'with', 'not', 'but', 'my', 'they', 'have', 'all', 'me', 'which']\n",
      "Bottom 10 words:  ['buy', 'lunch', 'nineteen', 'awful', 'police', 'senior', 'bored', 'shy', 'funny', 'argue']\n",
      "Top 10 words:  ['you', 'my', 'not', 'me', 'but', 'have', 'all', 'when', 'which', 'no']\n",
      "Bottom 10 words:  ['practice', 'blue', 'drink', 'excited', 'today', 'party', 'sister', 'hearing', 'light', 'bored']\n",
      "Top 10 words:  ['you', 'no', 'but', 'how', 'know', 'what', 'man', 'who', 'when', 'where']\n",
      "Bottom 10 words:  ['big', 'nice', 'live', 'lost', 'yes', 'brother', 'sit', 'write', 'blue', 'forget']\n"
     ]
    }
   ],
   "source": [
    "# ASL LibriSpeech 1000\n",
    "manifest_dir = \"/home/junruin2/UnsupSpeech2Sign_20221230/manifest/asl_librispeech960_1000words\"\n",
    "manifest_dir = Path(manifest_dir)\n",
    "wrd_file = manifest_dir / \"valid.wrd\"\n",
    "retrieval_file = \"/home/junruin2/UnsupSpeech2Sign_20221230/multirun/l1_w2vu_word_1000_segmented_onehot_clus2000_asl_cpc_clus1000_i3d_flow_charades_4000/0/retrieval.json\" \n",
    "vocab_file = manifest_dir / \"wrd2vid.json\"\n",
    "\n",
    "results_1000 = eval_word_detection(\n",
    "    wrd_file, retrieval_file, vocab_file,\n",
    ")\n",
    "\n",
    "# ASL LibriSpeech 500\n",
    "manifest_dir = \"/home/lwang114/workplace/fall2022/UnsupSpeech2Sign/manifest/asl_librispeech960_500words\"\n",
    "manifest_dir = Path(manifest_dir)\n",
    "wrd_file = manifest_dir / \"valid.wrd\"\n",
    "retrieval_file = \"/home/kcchang3/workplace/Speech2Sign/UnsupSpeech2Sign/multirun/l1_w2vu_word_500_segmented_onehot_clus2000/0/retrieval.json\" \n",
    "vocab_file = manifest_dir / \"wrd2vid.json\"\n",
    "\n",
    "results_500 = eval_word_detection(\n",
    "    wrd_file, retrieval_file, vocab_file,\n",
    ")\n",
    "\n",
    "# ASL LibriSpeech 200\n",
    "manifest_dir = \"/home/lwang114/workplace/fall2022/UnsupSpeech2Sign/manifest/asl_librispeech960_200words\"\n",
    "manifest_dir = Path(manifest_dir)\n",
    "wrd_file = manifest_dir / \"valid.wrd\"\n",
    "retrieval_file = \"/home/lwang114/workplace/fall2022/UnsupSpeech2Sign/multirun/l1_w2vu_word_200_segmented_onehot_clus800/0/retrieval.json\" \n",
    "vocab_file = manifest_dir / \"wrd2vid.json\"\n",
    "\n",
    "results_200 = eval_word_detection(\n",
    "    wrd_file, retrieval_file, vocab_file,\n",
    ")\n",
    "\n",
    "# ASL LibriSpeech 100\n",
    "manifest_dir = \"/home/lwang114/workplace/fall2022/UnsupSpeech2Sign/manifest/asl_librispeech960_100words\"\n",
    "manifest_dir = Path(manifest_dir)\n",
    "wrd_file = manifest_dir / \"valid.wrd\"\n",
    "retrieval_file = \"/home/lwang114/workplace/fall2022/UnsupSpeech2Sign/multirun/l1_w2vu_word_100_segmented_onehot_clus400_asl_cpc_clus100_i3d_flow_charades/0/retrieval.json\" \n",
    "vocab_file = manifest_dir / \"wrd2vid.json\"\n",
    "\n",
    "results_100 = eval_word_detection(\n",
    "    wrd_file, retrieval_file, vocab_file,\n",
    ")\n",
    "\n",
    "results = {\n",
    "    \"Recall\": [],\n",
    "    \"Precision\": [],\n",
    "    \"F1\": [],\n",
    "    \"Word rank\": [],\n",
    "    \"Word type\": [],\n",
    "    \"Dataset\": []\n",
    "}\n",
    "dsets = [\"ASL Libri. 100\", \"ASL Libri. 500\", \"ASL Libri. 1000\"]\n",
    "for r, d in zip(\n",
    "    [results_100, results_500, results_1000], \n",
    "    dsets,\n",
    "):\n",
    "    for k in r:\n",
    "        results[k].extend(r[k])\n",
    "    results[\"Dataset\"].extend([d]*len(r[\"Recall\"]))    "
   ]
  },
  {
   "cell_type": "code",
   "execution_count": 7,
   "metadata": {
    "colab": {
     "base_uri": "https://localhost:8080/",
     "height": 307
    },
    "id": "94UsiG381Y4h",
    "outputId": "2d69cc02-c537-414d-8241-988dc2eb8502"
   },
   "outputs": [
    {
     "data": {
      "text/plain": [
       "'\\nsns.scatterplot(\\n    data=df2,\\n    x=\"Precision\",\\n    y=\"Recall\",\\n    hue=\"Dataset\",\\n    style=\"Dataset\",\\n    size=\"Relative Freq.\",\\n    sizes=(30, 100),\\n)\\n\\ncolors = {\"ASL Libri. 100\": \"b\", \"ASL Libri. 1000\": \"orange\"}\\nfor w in [\"you\", \"how\", \"brother\", \"forget\"]:\\n    ps, rs, dsets = find_word_score(results, w)\\n    for p, r, d in zip(ps, rs, dsets):\\n        plt.annotate(\\n            w, \\n            xy=(p+0.01, r+0.01),\\n            color=colors[d],\\n        )\\n    ax.legend(bbox_to_anchor=(1.0, 1.0))\\n'"
      ]
     },
     "execution_count": 7,
     "metadata": {},
     "output_type": "execute_result"
    },
    {
     "data": {
      "image/png": "[encoded data removed]",
      "text/plain": [
       "<Figure size 360x360 with 1 Axes>"
      ]
     },
     "metadata": {
      "needs_background": "light"
     },
     "output_type": "display_data"
    }
   ],
   "source": [
    "fig, ax = plt.subplots(figsize=(5, 5))\n",
    "df2 = pd.DataFrame(results)\n",
    "\n",
    "sns.lineplot(\n",
    "    data=df2,\n",
    "    x=\"Word rank\",\n",
    "    y=\"F1\",\n",
    "    hue=\"Dataset\",\n",
    "    style=\"Dataset\",\n",
    "    markers=True,\n",
    ")\n",
    "plt.grid()\n",
    "\"\"\"\n",
    "sns.scatterplot(\n",
    "    data=df2,\n",
    "    x=\"Precision\",\n",
    "    y=\"Recall\",\n",
    "    hue=\"Dataset\",\n",
    "    style=\"Dataset\",\n",
    "    size=\"Relative Freq.\",\n",
    "    sizes=(30, 100),\n",
    ")\n",
    "\n",
    "colors = {\"ASL Libri. 100\": \"b\", \"ASL Libri. 1000\": \"orange\"}\n",
    "for w in [\"you\", \"how\", \"brother\", \"forget\"]:\n",
    "    ps, rs, dsets = find_word_score(results, w)\n",
    "    for p, r, d in zip(ps, rs, dsets):\n",
    "        plt.annotate(\n",
    "            w, \n",
    "            xy=(p+0.01, r+0.01),\n",
    "            color=colors[d],\n",
    "        )\n",
    "    ax.legend(bbox_to_anchor=(1.0, 1.0))\n",
    "\"\"\""
   ]
  },
  {
   "cell_type": "markdown",
   "metadata": {
    "id": "RnXsZX-Rzdqb",
    "tags": []
   },
   "source": [
    "# 4. Alignment/DTW path visualization"
   ]
  },
  {
   "cell_type": "code",
   "execution_count": 13,
   "metadata": {
    "id": "07Qv_GFOzdDJ"
   },
   "outputs": [],
   "source": [
    "def sample_alignment(\n",
    "  retrieval_file, wrd_file,  \n",
    "):\n",
    "  with open(retrieval_file, \"r\") as f:\n",
    "    ret_dict = json.load(f)\n",
    "    A2I_indices = ret_dict[\"A2I_ind\"]\n",
    "    correct_indices = [\n",
    "      i for i, a2i in enumerate(A2I_indices) if i == a2i[0]\n",
    "    ]\n",
    "    alignments = ret_dict[\"alignments\"]\n",
    "    dist_mats = ret_dict[\"dist_mats\"]\n",
    "\n",
    "  with open(wrd_file, \"r\") as f:\n",
    "    trans = f.read().strip().split(\"\\n\")\n",
    "  idx = random.choice(correct_indices)\n",
    "  idx = 0\n",
    "  align_indices = alignments[idx][0]\n",
    "  tran = trans[idx].split()\n",
    "  dist_mat = dist_mats[idx][0]\n",
    "  print(f\"Sample idx: {idx}\")\n",
    "  return align_indices, dist_mat, tran\n",
    "\n",
    "def plot_alignment(align_indices, tran):\n",
    "  n_a = max(align_indices[0])+1\n",
    "  n_v = max(align_indices[1])+1\n",
    "  A = np.zeros((n_a, n_v))\n",
    "  for i_a, i_v in zip(align_indices[0], align_indices[1]):\n",
    "    A[i_a, i_v] = 1.\n",
    "  fig, ax = plt.subplots()\n",
    "  plt.pcolor(\n",
    "      A, \n",
    "      vmin=0, \n",
    "      vmax=1, \n",
    "      cmap=plt.cm.Blues,\n",
    "      edgecolors='k',\n",
    "  )\n",
    "  ax.set_xticks(np.arange(1, n_a+1)-0.5)\n",
    "  ax.set_yticks(np.arange(1, n_v+1)-0.5)\n",
    "  ax.set_xticklabels(tran, rotation=45)\n",
    "  ax.set_yticklabels(tran, rotation=45)\n",
    "  ax.tick_params(axis=u'both', which=u'both',length=0)\n",
    "  ax.invert_yaxis()\n",
    "  plt.colorbar()\n",
    "\n",
    "def plot_similarity(S, tran):\n",
    "  n_a, n_v = S.shape\n",
    "  vmax = S.max()\n",
    "  vmin = S.min()\n",
    "  fig, ax = plt.subplots()\n",
    "  S = S / S.sum(-1, keepdims=True)\n",
    "  plt.pcolor(\n",
    "      S, \n",
    "      vmin=vmin,\n",
    "      vmax=vmax, \n",
    "      cmap=plt.cm.Blues, \n",
    "      edgecolors='k',\n",
    "  )\n",
    "  ax.set_xticks(np.arange(1, n_v+1)-0.5)\n",
    "  ax.set_yticks(np.arange(1, n_a+1)-0.5)\n",
    "  ax.set_xticklabels(tran, rotation=45)\n",
    "  ax.set_yticklabels(tran, rotation=45)\n",
    "  ax.tick_params(axis=u'both', which=u'both',length=0)\n",
    "  ax.invert_yaxis()\n",
    "  plt.colorbar()"
   ]
  },
  {
   "cell_type": "code",
   "execution_count": 14,
   "metadata": {
    "colab": {
     "base_uri": "https://localhost:8080/",
     "height": 585
    },
    "id": "aZUDPJnYS1tl",
    "outputId": "e009a8c0-c25c-49cc-f176-147ebff11bf7"
   },
   "outputs": [
    {
     "name": "stdout",
     "output_type": "stream",
     "text": [
      "Sample idx: 0\n"
     ]
    },
    {
     "data": {
      "image/png": "[encoded data removed]",
      "text/plain": [
       "<Figure size 432x288 with 2 Axes>"
      ]
     },
     "metadata": {
      "needs_background": "light"
     },
     "output_type": "display_data"
    },
    {
     "data": {
      "image/png": "[encoded data removed]",
      "text/plain": [
       "<Figure size 432x288 with 2 Axes>"
      ]
     },
     "metadata": {
      "needs_background": "light"
     },
     "output_type": "display_data"
    }
   ],
   "source": [
    "manifest_dir = \"/home/lwang114/workplace/fall2022/UnsupSpeech2Sign/manifest/asl_librispeech960_100words\"\n",
    "manifest_dir = Path(manifest_dir)\n",
    "wrd_file = manifest_dir / \"valid.wrd\"\n",
    "retrieval_file = \"/home/lwang114/workplace/fall2022/UnsupSpeech2Sign/multirun/l1_w2vu_word_100_segmented_onehot_clus400_asl_cpc_clus100_i3d_flow_charades/0/retrieval.json\" \n",
    "vocab_file = manifest_dir / \"wrd2vid.json\"\n",
    "\n",
    "align_indices, dist_mat, tran = sample_alignment(retrieval_file, wrd_file)\n",
    "plot_alignment(align_indices, tran)\n",
    "plot_similarity(-np.asarray(dist_mat), tran)"
   ]
  },
  {
   "cell_type": "markdown",
   "metadata": {
    "id": "bDl2YsxQXwa7",
    "tags": []
   },
   "source": [
    "# 5. Show speech and video samples"
   ]
  },
  {
   "cell_type": "code",
   "execution_count": 4,
   "metadata": {},
   "outputs": [],
   "source": [
    "import librosa\n",
    "from pathlib import Path\n",
    "import pdb\n",
    "import torch\n",
    "import torchvision\n",
    "\n",
    "\n",
    "class ASL_LibriSpeech_Visualizer:\n",
    "    def __init__(\n",
    "        self,\n",
    "        retrieval_json,\n",
    "        video_root,\n",
    "        flow_root,\n",
    "        speech_manifest_dir=\"/home/lwang114/workplace/fall2022/UnsupSpeech2Sign/manifest/asl_librispeech960_100words\", \n",
    "        sent_manifest_dir=\"/home/lwang114/workplace/fall2022/UnsupSpeech2Sign/manifest/asl_librispeech960_100words/asl_feat/i3d_flow_charades_cpc_npredicts3_32negatives\",\n",
    "        word_manifest_dir=\"/home/lwang114/workplace/fall2022/UnsupSpeech2Sign/manifest/MS-ASL/i3d_flow_charades_mean_cpc\",\n",
    "        split=\"dev\",\n",
    "    ):\n",
    "        self.video_root = Path(video_root)\n",
    "        self.flow_root = Path(flow_root)\n",
    "        speech_manifest_dir = Path(speech_manifest_dir)\n",
    "        self.audio_data = []\n",
    "        with open(speech_manifest_dir / f\"{split}.tsv\", \"r\") as f_tsv,\\\n",
    "            open(speech_manifest_dir / f\"{split}.jsonlines\", \"r\") as f_json:\n",
    "            lines_tsv = f_tsv.read().strip().split(\"\\n\")\n",
    "            _ = lines_tsv.pop(0)\n",
    "            lines_json = f_json.read().strip().split(\"\\n\")\n",
    "            for l_tsv, l_json in zip(lines_tsv, lines_json):\n",
    "                audio_path = l_tsv.split(\"\\t\")[0]\n",
    "                audio_dict = json.loads(l_json)\n",
    "                self.audio_data.append(\n",
    "                    (audio_path, audio_dict)\n",
    "                )\n",
    "    \n",
    "        word_manifest_dir = Path(word_manifest_dir)\n",
    "        sent_manifest_dir = Path(sent_manifest_dir)\n",
    "        \n",
    "        self.word_feats = np.load(word_manifest_dir / \"train.npy\")\n",
    "        self.sent_feats = np.load(sent_manifest_dir / f\"{split}.npy\")\n",
    "\n",
    "        self.word_data = []\n",
    "        self.sent_data = []\n",
    "        with open(word_manifest_dir / \"train.tsv\", \"r\") as f_wrd,\\\n",
    "            open(sent_manifest_dir / f\"{split}.lengths\", \"r\") as f_len:\n",
    "            lines = f_wrd.read().strip().split(\"\\n\")\n",
    "            _ = lines.pop(0)\n",
    "            self.word_data = [l.split(\"\\t\")[0] for l in lines]\n",
    "            sizes = list(map(int, f_len.read().strip().split(\"\\n\")))\n",
    "            offset = 0\n",
    "            for size in sizes:\n",
    "                self.sent_data.append((offset, size))\n",
    "                offset += size\n",
    "    \n",
    "        self.vid2info = {}\n",
    "        with open(sent_manifest_dir / \"../../wrd2vid.json\", \"r\") as f_msasl:\n",
    "            wrd2vid = json.load(f_msasl)\n",
    "            i = 0\n",
    "            for w in wrd2vid:\n",
    "                for info in wrd2vid[w]:\n",
    "                    video_id = info[\"url\"].split(\"v=\")[-1]\n",
    "                    i += 1\n",
    "                    start, end = info[\"start_time\"], info[\"end_time\"] \n",
    "                    video_id = f\"{video_id}.mp4_{start}_{end}\"\n",
    "                    self.vid2info[video_id] = {\"box\": info[\"box\"]}\n",
    "    \n",
    "    def show_alignment(\n",
    "        self, idx, find_correct=True,\n",
    "    ):\n",
    "        assert False, \"to-do\"\n",
    "    \n",
    "    def show_speech(self, idx):\n",
    "        pdb.set_trace()\n",
    "        y, sr = read_speech(*self.audio_data[idx])\n",
    "        plot_mel_spectrogram(y, sr)\n",
    "    \n",
    "    def show_video(self, idx):\n",
    "        offset, size = self.sent_data[idx]\n",
    "        sent_ids = match_video_feature_with_id(\n",
    "            self.sent_feats[offset:offset+size], \n",
    "            self.word_feats,\n",
    "            self.word_data,\n",
    "        )\n",
    "        videos = read_video(self.video_root, sent_ids)\n",
    "        boxes = [self.vid2info[video_id][\"box\"] for video_id in sent_ids]\n",
    "        videos = extract_regions(videos, boxes)\n",
    "        \n",
    "        for v in videos:\n",
    "            v = cv2.resize(v[len(v) // 2], (224, 224))\n",
    "            plt.imshow(v)\n",
    "            plt.figure()\n",
    "    \n",
    "    def show_optical_flow(self, idx):\n",
    "        offset, size = self.sent_data[idx]\n",
    "        sent_ids = match_video_feature_with_id(\n",
    "            self.sent_feats[offset:offset+size], \n",
    "            self.word_feats,\n",
    "            self.word_data,\n",
    "        )\n",
    "        videos = read_video(self.video_root, sent_ids)\n",
    "        boxes = [self.vid2info[video_id][\"box\"] for video_id in sent_ids]\n",
    "        videos = extract_regions(videos, boxes)\n",
    "        flows = extract_optical_flows(videos)\n",
    "        for f in flows:\n",
    "            plt.imshow(f[len(f) // 2].mean(-1))\n",
    "            plt.figure()\n",
    "            \n",
    "def read_speech(audio_path, audio_dict, sr=16e3):\n",
    "    \"\"\"\n",
    "    Args:\n",
    "        audio_dict: a dict with fields\n",
    "            utterance_id: str, name of the audio file\n",
    "            words: a list of strs\n",
    "            begins: a list of floats\n",
    "            ends: a list of floats\n",
    "    \"\"\"\n",
    "    utt_id = audio_dict[\"utterance_id\"]\n",
    "    begins = audio_dict[\"begins\"]\n",
    "    ends = audio_dict[\"ends\"]\n",
    "    raw_audio = librosa.load(\n",
    "        audio_path, \n",
    "        sr=sr,\n",
    "    )[0].squeeze()\n",
    "    y = []\n",
    "    for b, e in zip(begins, ends):\n",
    "        y.append(raw_audio[int(b*sr):int(e*sr)])\n",
    "    y = np.concatenate(y)\n",
    "    return y, sr\n",
    "\n",
    "def plot_mel_spectrogram(y, sr=16e3):\n",
    "    S = librosa.feature.melspectrogram(\n",
    "        y=y, sr=sr,\n",
    "        win_length=400,\n",
    "        hop_length=250,\n",
    "        n_fft=512,\n",
    "        n_mels=40,\n",
    "    )\n",
    "    S_dB = librosa.power_to_db(S, ref=np.max)\n",
    "    fig, ax = plt.subplots(figsize=(8, 2))\n",
    "    img = display.specshow(S_dB, x_axis='time',\n",
    "        y_axis='mel', sr=sr,\n",
    "        fmax=8000)\n",
    "    fig, ax = plt.subplots()\n",
    "    # fig.colorbar(img, ax=ax, format='%+2.0f dB')\n",
    "\n",
    "def match_video_feature_with_id(sent_feats, word_feats, word_ids):\n",
    "    \"\"\"\n",
    "    Args:\n",
    "        sent_feats: np.array of shape (n1, d)\n",
    "        word_feats: np.array of shape (n2, d)\n",
    "        word_ids: list of video ids for the word videos\n",
    "    \"\"\"    \n",
    "    S = sent_feats @ word_feats.T\n",
    "    S /= np.linalg.norm(word_feats, axis=-1)\n",
    "    S /= np.linalg.norm(sent_feats, axis=-1)[:, np.newaxis]\n",
    "    max_ind = S.argmax(-1)\n",
    "    sent_ids = [word_ids[i] for i in max_ind]\n",
    "    return sent_ids\n",
    "\n",
    "def read_video(video_root, video_ids):\n",
    "    \"\"\"\n",
    "    Args:\n",
    "        video_root: str,\n",
    "        video_ids: list of strs, each in the format\n",
    "            {youtube id}.mp4_{start time}_{end time}\n",
    "    \"\"\"\n",
    "    video_root = Path(video_root)\n",
    "    videos = []\n",
    "    for vid in video_ids:\n",
    "        fname, time_stamps = vid.split(\".mp4\")\n",
    "        start, end = list(map(float, time_stamps.split(\"_\")[1:]))\n",
    "        try:\n",
    "            fpath = str(video_root / f\"{fname}.mp4\")\n",
    "            video = torchvision.io.read_video(\n",
    "                fpath, \n",
    "                start_pts=start,\n",
    "                end_pts=end,\n",
    "                pts_unit=\"sec\",\n",
    "            )[0]\n",
    "        except:\n",
    "            fpath = str(video_root / f\"{fname}.m4v\")\n",
    "            video = torchvision.io.read_video(\n",
    "                fpath,\n",
    "                start_pts=start,\n",
    "                end_pts=end,\n",
    "                pts_unit=\"sec\",\n",
    "            )[0]\n",
    "        videos.append(video)\n",
    "    return videos\n",
    "\n",
    "def extract_regions(videos, boxes):\n",
    "    regions = []\n",
    "    for v, box in zip(videos, boxes):\n",
    "        x, y = v.shape[1:]\n",
    "        y0 = int(y * box[0])\n",
    "        x0 = int(x * box[1])\n",
    "        y1 = int(y * box[2])\n",
    "        x1 = int(x * box[3])\n",
    "        regions.append(v[:, y0:y1, x0:x1])\n",
    "    return regions\n",
    "\n",
    "def extract_optical_flow(vid_frames):\n",
    "    flow = []\n",
    "\n",
    "    prev = vid_frames[0]\n",
    "    prev = cv2.cvtColor(prev, cv2.COLOR_BGR2GRAY)\n",
    "    prev = cv2.resize(prev,(224,224))\n",
    "\n",
    "    for i in range(vid_frames.shape[0]):\n",
    "        curr = vid_frames[i].numpy()\n",
    "        curr = cv2.resize(curr,(224,224))\n",
    "        curr = cv2.cvtColor(curr, cv2.COLOR_BGR2GRAY)\n",
    "        tmp_flow = self.compute_TVL1(prev, curr)\n",
    "        tmp_flow = np.swapaxes(tmp_flow[None], 0, -1)[:,:,:,0]\n",
    "        flow.append(tmp_flow)\n",
    "        prev = curr\n",
    "\n",
    "    flow = np.asarray(flow)\n",
    "    flow = np.swapaxes(flow, 0, 1)\n",
    "    flow = (flow/255.)*2 - 1\n",
    "\n",
    "    return torch.from_numpy(flow.astype(\"float32\"))"
   ]
  },
  {
   "cell_type": "code",
   "execution_count": 5,
   "metadata": {},
   "outputs": [],
   "source": [
    "retrieval_file = \"/home/lwang114/workplace/fall2022/UnsupSpeech2Sign/multirun/l1_w2vu_word_100_segmented_onehot_clus400_asl_cpc_clus100_i3d_flow_charades/0/retrieval.json\" \n",
    "video_root = \"/home/hertin/data/MS-ASL/downloads\"\n",
    "flow_root = \"/home/lwang114/workplace/fall2022/UnsupSpeech2Sign/manifest/MS-ASL/i3d_flow_charades\"\n",
    "\n",
    "visualizer = ASL_LibriSpeech_Visualizer(\n",
    "    retrieval_file, video_root, flow_root,\n",
    ")"
   ]
  },
  {
   "cell_type": "code",
   "execution_count": null,
   "metadata": {},
   "outputs": [],
   "source": [
    "idx = 0\n",
    "#visualizer.show_speech(idx)\n",
    "#visualizer.show_video(idx)\n",
    "#visualizer.show_optical_flow(idx)"
   ]
  },
  {
   "cell_type": "code",
   "execution_count": null,
   "metadata": {},
   "outputs": [],
   "source": []
  }
 ],
 "metadata": {
  "colab": {
   "collapsed_sections": [
    "cSR1OXo_ACn4"
   ],
   "provenance": []
  },
  "kernelspec": {
   "display_name": "Python [conda env:opence-v1.6.1]",
   "language": "python",
   "name": "conda-env-opence-v1.6.1-py"
  },
  "language_info": {
   "codemirror_mode": {
    "name": "ipython",
    "version": 3
   },
   "file_extension": ".py",
   "mimetype": "text/x-python",
   "name": "python",
   "nbconvert_exporter": "python",
   "pygments_lexer": "ipython3",
   "version": "3.9.12"
  }
 },
 "nbformat": 4,
 "nbformat_minor": 4
}
